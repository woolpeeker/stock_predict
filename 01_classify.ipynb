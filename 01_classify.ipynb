{
 "cells": [
  {
   "cell_type": "code",
   "execution_count": 1,
   "metadata": {},
   "outputs": [
    {
     "name": "stdout",
     "output_type": "stream",
     "text": [
      "E:\\2017\\stock\\data\n"
     ]
    }
   ],
   "source": [
    "cd data"
   ]
  },
  {
   "cell_type": "code",
   "execution_count": 2,
   "metadata": {},
   "outputs": [
    {
     "name": "stdout",
     "output_type": "stream",
     "text": [
      "kdataname: 01\n",
      "mldataname: 01\n",
      "start: 2018-03-11\n",
      "end: 2018-04-11\n",
      "duration: 7\n",
      "data name: 01\n",
      "201000\n",
      "501000\n",
      "502000\n",
      "512000\n",
      "600000\n",
      "601000\n",
      "603000\n"
     ]
    }
   ],
   "source": [
    "run 02_ml_data.py"
   ]
  },
  {
   "cell_type": "code",
   "execution_count": 3,
   "metadata": {},
   "outputs": [
    {
     "name": "stdout",
     "output_type": "stream",
     "text": [
      "E:\\2017\\stock\\classify\n"
     ]
    }
   ],
   "source": [
    "cd ../classify/"
   ]
  },
  {
   "cell_type": "code",
   "execution_count": 4,
   "metadata": {
    "scrolled": true
   },
   "outputs": [
    {
     "name": "stdout",
     "output_type": "stream",
     "text": [
      "========================data_set===========================\n",
      "x_train.shape:(54520, 30)\n",
      "x_test.shape:(4057, 30)\n",
      "y_train: Counter({0: 38013, -1: 10240, 1: 6267})\n",
      "y_test: Counter({0: 3186, 1: 654, -1: 217})\n",
      "========================classify===========================\n",
      "linearSVC\n",
      "             precision    recall  f1-score   support\n",
      "\n",
      "         -1       0.16      0.34      0.21       217\n",
      "          0       0.79      0.20      0.32      3186\n",
      "          1       0.15      0.62      0.24       654\n",
      "\n",
      "avg / total       0.65      0.28      0.30      4057\n",
      "\n",
      "[[  74   32  111]\n",
      " [ 287  642 2257]\n",
      " [ 111  137  406]]\n",
      "SVC\n"
     ]
    },
    {
     "name": "stderr",
     "output_type": "stream",
     "text": [
      "c:\\programdata\\anaconda3\\envs\\py36\\lib\\site-packages\\sklearn\\metrics\\classification.py:1135: UndefinedMetricWarning: Precision and F-score are ill-defined and being set to 0.0 in labels with no predicted samples.\n",
      "  'precision', 'predicted', average, warn_for)\n"
     ]
    },
    {
     "name": "stdout",
     "output_type": "stream",
     "text": [
      "             precision    recall  f1-score   support\n",
      "\n",
      "         -1       1.00      0.00      0.01       217\n",
      "          0       0.79      1.00      0.88      3186\n",
      "          1       0.00      0.00      0.00       654\n",
      "\n",
      "avg / total       0.67      0.79      0.69      4057\n",
      "\n",
      "[[   1  216    0]\n",
      " [   0 3186    0]\n",
      " [   0  654    0]]\n",
      "RF\n",
      "             precision    recall  f1-score   support\n",
      "\n",
      "         -1       0.29      0.12      0.17       217\n",
      "          0       0.80      0.99      0.88      3186\n",
      "          1       0.48      0.02      0.03       654\n",
      "\n",
      "avg / total       0.72      0.78      0.71      4057\n",
      "\n",
      "[[  26  187    4]\n",
      " [  36 3143    7]\n",
      " [  29  615   10]]\n",
      "KNN\n",
      "             precision    recall  f1-score   support\n",
      "\n",
      "         -1       0.17      0.21      0.19       217\n",
      "          0       0.80      0.94      0.86      3186\n",
      "          1       0.20      0.02      0.04       654\n",
      "\n",
      "avg / total       0.67      0.75      0.69      4057\n",
      "\n",
      "[[  45  165    7]\n",
      " [ 157 2981   48]\n",
      " [  57  583   14]]\n"
     ]
    }
   ],
   "source": [
    "run 01_classify.py"
   ]
  },
  {
   "cell_type": "code",
   "execution_count": null,
   "metadata": {},
   "outputs": [],
   "source": []
  }
 ],
 "metadata": {
  "kernelspec": {
   "display_name": "Python 3",
   "language": "python",
   "name": "python3"
  },
  "language_info": {
   "codemirror_mode": {
    "name": "ipython",
    "version": 3
   },
   "file_extension": ".py",
   "mimetype": "text/x-python",
   "name": "python",
   "nbconvert_exporter": "python",
   "pygments_lexer": "ipython3",
   "version": "3.6.2"
  }
 },
 "nbformat": 4,
 "nbformat_minor": 2
}
